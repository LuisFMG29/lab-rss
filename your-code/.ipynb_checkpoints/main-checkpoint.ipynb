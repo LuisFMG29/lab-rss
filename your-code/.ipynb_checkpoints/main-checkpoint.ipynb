{
 "cells": [
  {
   "cell_type": "markdown",
   "metadata": {},
   "source": [
    "# Working with RSS Feeds Lab\n",
    "\n",
    "Complete the following set of exercises to solidify your knowledge of parsing RSS feeds and extracting information from them."
   ]
  },
  {
   "cell_type": "code",
   "execution_count": 1,
   "metadata": {},
   "outputs": [],
   "source": [
    "import feedparser"
   ]
  },
  {
   "cell_type": "markdown",
   "metadata": {},
   "source": [
    "### 1. Use feedparser to parse the following RSS feed URL."
   ]
  },
  {
   "cell_type": "code",
   "execution_count": 2,
   "metadata": {},
   "outputs": [],
   "source": [
    "url = 'http://feeds.feedburner.com/oreilly/radar/atom'"
   ]
  },
  {
   "cell_type": "code",
   "execution_count": 6,
   "metadata": {},
   "outputs": [],
   "source": [
    "urlp = feedparser.parse(url)"
   ]
  },
  {
   "cell_type": "markdown",
   "metadata": {},
   "source": [
    "### 2. Obtain a list of components (keys) that are available for this feed."
   ]
  },
  {
   "cell_type": "code",
   "execution_count": 7,
   "metadata": {},
   "outputs": [
    {
     "data": {
      "text/plain": [
       "dict_keys(['bozo', 'entries', 'feed', 'headers', 'updated', 'updated_parsed', 'href', 'status', 'encoding', 'version', 'namespaces'])"
      ]
     },
     "execution_count": 7,
     "metadata": {},
     "output_type": "execute_result"
    }
   ],
   "source": [
    "urlp.keys()"
   ]
  },
  {
   "cell_type": "markdown",
   "metadata": {},
   "source": [
    "### 3. Obtain a list of components (keys) that are available for the *feed* component of this RSS feed."
   ]
  },
  {
   "cell_type": "code",
   "execution_count": 8,
   "metadata": {},
   "outputs": [
    {
     "data": {
      "text/plain": [
       "dict_keys(['title', 'title_detail', 'links', 'link', 'subtitle', 'subtitle_detail', 'updated', 'updated_parsed', 'language', 'sy_updateperiod', 'sy_updatefrequency', 'generator_detail', 'generator'])"
      ]
     },
     "execution_count": 8,
     "metadata": {},
     "output_type": "execute_result"
    }
   ],
   "source": [
    "urlp.feed.keys()"
   ]
  },
  {
   "cell_type": "markdown",
   "metadata": {},
   "source": [
    "### 4. Extract and print the feed title, subtitle, author, and link."
   ]
  },
  {
   "cell_type": "code",
   "execution_count": 9,
   "metadata": {},
   "outputs": [
    {
     "name": "stdout",
     "output_type": "stream",
     "text": [
      "Radar\n",
      "Now, next, and beyond: Tracking need-to-know trends at the intersection of business and technology\n",
      "https://www.oreilly.com/radar\n",
      "Mike Loukides\n"
     ]
    }
   ],
   "source": [
    "print(urlp.feed.title)\n",
    "print(urlp.feed.subtitle)\n",
    "print(urlp.feed.link)\n",
    "print(urlp.entries[0].author)"
   ]
  },
  {
   "cell_type": "markdown",
   "metadata": {},
   "source": [
    "### 5. Count the number of entries that are contained in this RSS feed."
   ]
  },
  {
   "cell_type": "code",
   "execution_count": 11,
   "metadata": {},
   "outputs": [
    {
     "data": {
      "text/plain": [
       "15"
      ]
     },
     "execution_count": 11,
     "metadata": {},
     "output_type": "execute_result"
    }
   ],
   "source": [
    "len(urlp.entries)"
   ]
  },
  {
   "cell_type": "markdown",
   "metadata": {},
   "source": [
    "### 6. Obtain a list of components (keys) available for an entry.\n",
    "\n",
    "*Hint: Remember to index first before requesting the keys*"
   ]
  },
  {
   "cell_type": "code",
   "execution_count": 12,
   "metadata": {},
   "outputs": [
    {
     "data": {
      "text/plain": [
       "dict_keys(['title', 'title_detail', 'links', 'link', 'comments', 'published', 'published_parsed', 'authors', 'author', 'author_detail', 'tags', 'id', 'guidislink', 'summary', 'summary_detail', 'content', 'wfw_commentrss', 'slash_comments'])"
      ]
     },
     "execution_count": 12,
     "metadata": {},
     "output_type": "execute_result"
    }
   ],
   "source": [
    "urlp.entries[10].keys()"
   ]
  },
  {
   "cell_type": "markdown",
   "metadata": {},
   "source": [
    "### 7. Extract a list of entry titles."
   ]
  },
  {
   "cell_type": "code",
   "execution_count": 14,
   "metadata": {},
   "outputs": [],
   "source": [
    "titles=[x.title for x in urlp.entries]"
   ]
  },
  {
   "cell_type": "code",
   "execution_count": 15,
   "metadata": {},
   "outputs": [
    {
     "data": {
      "text/plain": [
       "['The Problem with Intelligence',\n",
       " 'Radar Trends to Watch: September 2022',\n",
       " 'Ad Networks and Content Marketing',\n",
       " 'On Technique',\n",
       " 'Scaling False Peaks',\n",
       " 'The Metaverse Is Not a Place',\n",
       " 'Radar Trends to Watch: August 2022',\n",
       " 'SQL: The Universal Solvent for REST APIs',\n",
       " 'Artificial Creativity?',\n",
       " 'Radar Trends to Watch: July 2022',\n",
       " '2022 Cloud Salary Survey',\n",
       " '“Sentience” is the Wrong Question',\n",
       " 'Closer to AGI?',\n",
       " 'Radar Trends to Watch: June 2022',\n",
       " 'Building a Better Middleman']"
      ]
     },
     "execution_count": 15,
     "metadata": {},
     "output_type": "execute_result"
    }
   ],
   "source": [
    "titles"
   ]
  },
  {
   "cell_type": "markdown",
   "metadata": {},
   "source": [
    "### 8. Calculate the percentage of \"Four short links\" entry titles."
   ]
  },
  {
   "cell_type": "code",
   "execution_count": 16,
   "metadata": {},
   "outputs": [
    {
     "name": "stdout",
     "output_type": "stream",
     "text": [
      "15 0\n",
      "0.0\n"
     ]
    }
   ],
   "source": [
    "four_shots = []\n",
    "for x in titles:\n",
    "    if (\"Four short links:\" in x):\n",
    "        four_shots.append(x)\n",
    "\n",
    "num_titles = (len(titles))\n",
    "num_four = (len(four_shots))\n",
    "\n",
    "print (num_titles,num_four)\n",
    "\n",
    "print ((num_four*100)/num_titles)"
   ]
  },
  {
   "cell_type": "markdown",
   "metadata": {},
   "source": [
    "### 9. Create a Pandas data frame from the feed's entries."
   ]
  },
  {
   "cell_type": "code",
   "execution_count": 17,
   "metadata": {},
   "outputs": [],
   "source": [
    "import pandas as pd"
   ]
  },
  {
   "cell_type": "code",
   "execution_count": 18,
   "metadata": {},
   "outputs": [],
   "source": [
    "df = pd.DataFrame(urlp.entries)"
   ]
  },
  {
   "cell_type": "code",
   "execution_count": 20,
   "metadata": {},
   "outputs": [
    {
     "data": {
      "text/html": [
       "<div>\n",
       "<style scoped>\n",
       "    .dataframe tbody tr th:only-of-type {\n",
       "        vertical-align: middle;\n",
       "    }\n",
       "\n",
       "    .dataframe tbody tr th {\n",
       "        vertical-align: top;\n",
       "    }\n",
       "\n",
       "    .dataframe thead th {\n",
       "        text-align: right;\n",
       "    }\n",
       "</style>\n",
       "<table border=\"1\" class=\"dataframe\">\n",
       "  <thead>\n",
       "    <tr style=\"text-align: right;\">\n",
       "      <th></th>\n",
       "      <th>title</th>\n",
       "      <th>title_detail</th>\n",
       "      <th>links</th>\n",
       "      <th>link</th>\n",
       "      <th>comments</th>\n",
       "      <th>published</th>\n",
       "      <th>published_parsed</th>\n",
       "      <th>authors</th>\n",
       "      <th>author</th>\n",
       "      <th>author_detail</th>\n",
       "      <th>tags</th>\n",
       "      <th>id</th>\n",
       "      <th>guidislink</th>\n",
       "      <th>summary</th>\n",
       "      <th>summary_detail</th>\n",
       "      <th>content</th>\n",
       "      <th>wfw_commentrss</th>\n",
       "      <th>slash_comments</th>\n",
       "    </tr>\n",
       "  </thead>\n",
       "  <tbody>\n",
       "    <tr>\n",
       "      <th>0</th>\n",
       "      <td>The Problem with Intelligence</td>\n",
       "      <td>{'type': 'text/plain', 'language': None, 'base...</td>\n",
       "      <td>[{'rel': 'alternate', 'type': 'text/html', 'hr...</td>\n",
       "      <td>https://www.oreilly.com/radar/the-problem-with...</td>\n",
       "      <td>https://www.oreilly.com/radar/the-problem-with...</td>\n",
       "      <td>Tue, 13 Sep 2022 11:21:40 +0000</td>\n",
       "      <td>(2022, 9, 13, 11, 21, 40, 1, 256, 0)</td>\n",
       "      <td>[{'name': 'Mike Loukides'}]</td>\n",
       "      <td>Mike Loukides</td>\n",
       "      <td>{'name': 'Mike Loukides'}</td>\n",
       "      <td>[{'term': 'Artificial Intelligence', 'scheme':...</td>\n",
       "      <td>https://www.oreilly.com/radar/?p=14718</td>\n",
       "      <td>False</td>\n",
       "      <td>Projects like OpenAI’s DALL-E and DeepMind’s G...</td>\n",
       "      <td>{'type': 'text/html', 'language': None, 'base'...</td>\n",
       "      <td>[{'type': 'text/html', 'language': None, 'base...</td>\n",
       "      <td>https://www.oreilly.com/radar/the-problem-with...</td>\n",
       "      <td>0</td>\n",
       "    </tr>\n",
       "    <tr>\n",
       "      <th>1</th>\n",
       "      <td>Radar Trends to Watch: September 2022</td>\n",
       "      <td>{'type': 'text/plain', 'language': None, 'base...</td>\n",
       "      <td>[{'rel': 'alternate', 'type': 'text/html', 'hr...</td>\n",
       "      <td>https://www.oreilly.com/radar/radar-trends-to-...</td>\n",
       "      <td>https://www.oreilly.com/radar/radar-trends-to-...</td>\n",
       "      <td>Tue, 06 Sep 2022 11:21:09 +0000</td>\n",
       "      <td>(2022, 9, 6, 11, 21, 9, 1, 249, 0)</td>\n",
       "      <td>[{'name': 'Mike Loukides'}]</td>\n",
       "      <td>Mike Loukides</td>\n",
       "      <td>{'name': 'Mike Loukides'}</td>\n",
       "      <td>[{'term': 'Radar Trends', 'scheme': None, 'lab...</td>\n",
       "      <td>https://www.oreilly.com/radar/?p=14700</td>\n",
       "      <td>False</td>\n",
       "      <td>It’s hardly news to talk about the AI developm...</td>\n",
       "      <td>{'type': 'text/html', 'language': None, 'base'...</td>\n",
       "      <td>[{'type': 'text/html', 'language': None, 'base...</td>\n",
       "      <td>https://www.oreilly.com/radar/radar-trends-to-...</td>\n",
       "      <td>0</td>\n",
       "    </tr>\n",
       "    <tr>\n",
       "      <th>2</th>\n",
       "      <td>Ad Networks and Content Marketing</td>\n",
       "      <td>{'type': 'text/plain', 'language': None, 'base...</td>\n",
       "      <td>[{'rel': 'alternate', 'type': 'text/html', 'hr...</td>\n",
       "      <td>https://www.oreilly.com/radar/ad-networks-and-...</td>\n",
       "      <td>https://www.oreilly.com/radar/ad-networks-and-...</td>\n",
       "      <td>Tue, 16 Aug 2022 11:21:21 +0000</td>\n",
       "      <td>(2022, 8, 16, 11, 21, 21, 1, 228, 0)</td>\n",
       "      <td>[{'name': 'Q McCallum'}]</td>\n",
       "      <td>Q McCallum</td>\n",
       "      <td>{'name': 'Q McCallum'}</td>\n",
       "      <td>[{'term': 'Operations', 'scheme': None, 'label...</td>\n",
       "      <td>https://www.oreilly.com/radar/?p=14688</td>\n",
       "      <td>False</td>\n",
       "      <td>In a recent Radar piece, I explored N-sided ma...</td>\n",
       "      <td>{'type': 'text/html', 'language': None, 'base'...</td>\n",
       "      <td>[{'type': 'text/html', 'language': None, 'base...</td>\n",
       "      <td>https://www.oreilly.com/radar/ad-networks-and-...</td>\n",
       "      <td>0</td>\n",
       "    </tr>\n",
       "    <tr>\n",
       "      <th>3</th>\n",
       "      <td>On Technique</td>\n",
       "      <td>{'type': 'text/plain', 'language': None, 'base...</td>\n",
       "      <td>[{'rel': 'alternate', 'type': 'text/html', 'hr...</td>\n",
       "      <td>https://www.oreilly.com/radar/on-technique/</td>\n",
       "      <td>https://www.oreilly.com/radar/on-technique/#re...</td>\n",
       "      <td>Tue, 09 Aug 2022 11:12:22 +0000</td>\n",
       "      <td>(2022, 8, 9, 11, 12, 22, 1, 221, 0)</td>\n",
       "      <td>[{'name': 'Mike Loukides'}]</td>\n",
       "      <td>Mike Loukides</td>\n",
       "      <td>{'name': 'Mike Loukides'}</td>\n",
       "      <td>[{'term': 'AI &amp; ML', 'scheme': None, 'label': ...</td>\n",
       "      <td>https://www.oreilly.com/radar/?p=14669</td>\n",
       "      <td>False</td>\n",
       "      <td>In a previous article, I wrote about how model...</td>\n",
       "      <td>{'type': 'text/html', 'language': None, 'base'...</td>\n",
       "      <td>[{'type': 'text/html', 'language': None, 'base...</td>\n",
       "      <td>https://www.oreilly.com/radar/on-technique/feed/</td>\n",
       "      <td>0</td>\n",
       "    </tr>\n",
       "    <tr>\n",
       "      <th>4</th>\n",
       "      <td>Scaling False Peaks</td>\n",
       "      <td>{'type': 'text/plain', 'language': None, 'base...</td>\n",
       "      <td>[{'rel': 'alternate', 'type': 'text/html', 'hr...</td>\n",
       "      <td>https://www.oreilly.com/radar/scaling-false-pe...</td>\n",
       "      <td>https://www.oreilly.com/radar/scaling-false-pe...</td>\n",
       "      <td>Thu, 04 Aug 2022 11:12:44 +0000</td>\n",
       "      <td>(2022, 8, 4, 11, 12, 44, 3, 216, 0)</td>\n",
       "      <td>[{'name': 'Kevlin Henney'}]</td>\n",
       "      <td>Kevlin Henney</td>\n",
       "      <td>{'name': 'Kevlin Henney'}</td>\n",
       "      <td>[{'term': 'AI &amp; ML', 'scheme': None, 'label': ...</td>\n",
       "      <td>https://www.oreilly.com/radar/?p=14661</td>\n",
       "      <td>False</td>\n",
       "      <td>Humans are notoriously poor at judging distanc...</td>\n",
       "      <td>{'type': 'text/html', 'language': None, 'base'...</td>\n",
       "      <td>[{'type': 'text/html', 'language': None, 'base...</td>\n",
       "      <td>https://www.oreilly.com/radar/scaling-false-pe...</td>\n",
       "      <td>0</td>\n",
       "    </tr>\n",
       "  </tbody>\n",
       "</table>\n",
       "</div>"
      ],
      "text/plain": [
       "                                   title  \\\n",
       "0          The Problem with Intelligence   \n",
       "1  Radar Trends to Watch: September 2022   \n",
       "2      Ad Networks and Content Marketing   \n",
       "3                           On Technique   \n",
       "4                    Scaling False Peaks   \n",
       "\n",
       "                                        title_detail  \\\n",
       "0  {'type': 'text/plain', 'language': None, 'base...   \n",
       "1  {'type': 'text/plain', 'language': None, 'base...   \n",
       "2  {'type': 'text/plain', 'language': None, 'base...   \n",
       "3  {'type': 'text/plain', 'language': None, 'base...   \n",
       "4  {'type': 'text/plain', 'language': None, 'base...   \n",
       "\n",
       "                                               links  \\\n",
       "0  [{'rel': 'alternate', 'type': 'text/html', 'hr...   \n",
       "1  [{'rel': 'alternate', 'type': 'text/html', 'hr...   \n",
       "2  [{'rel': 'alternate', 'type': 'text/html', 'hr...   \n",
       "3  [{'rel': 'alternate', 'type': 'text/html', 'hr...   \n",
       "4  [{'rel': 'alternate', 'type': 'text/html', 'hr...   \n",
       "\n",
       "                                                link  \\\n",
       "0  https://www.oreilly.com/radar/the-problem-with...   \n",
       "1  https://www.oreilly.com/radar/radar-trends-to-...   \n",
       "2  https://www.oreilly.com/radar/ad-networks-and-...   \n",
       "3        https://www.oreilly.com/radar/on-technique/   \n",
       "4  https://www.oreilly.com/radar/scaling-false-pe...   \n",
       "\n",
       "                                            comments  \\\n",
       "0  https://www.oreilly.com/radar/the-problem-with...   \n",
       "1  https://www.oreilly.com/radar/radar-trends-to-...   \n",
       "2  https://www.oreilly.com/radar/ad-networks-and-...   \n",
       "3  https://www.oreilly.com/radar/on-technique/#re...   \n",
       "4  https://www.oreilly.com/radar/scaling-false-pe...   \n",
       "\n",
       "                         published                      published_parsed  \\\n",
       "0  Tue, 13 Sep 2022 11:21:40 +0000  (2022, 9, 13, 11, 21, 40, 1, 256, 0)   \n",
       "1  Tue, 06 Sep 2022 11:21:09 +0000    (2022, 9, 6, 11, 21, 9, 1, 249, 0)   \n",
       "2  Tue, 16 Aug 2022 11:21:21 +0000  (2022, 8, 16, 11, 21, 21, 1, 228, 0)   \n",
       "3  Tue, 09 Aug 2022 11:12:22 +0000   (2022, 8, 9, 11, 12, 22, 1, 221, 0)   \n",
       "4  Thu, 04 Aug 2022 11:12:44 +0000   (2022, 8, 4, 11, 12, 44, 3, 216, 0)   \n",
       "\n",
       "                       authors         author              author_detail  \\\n",
       "0  [{'name': 'Mike Loukides'}]  Mike Loukides  {'name': 'Mike Loukides'}   \n",
       "1  [{'name': 'Mike Loukides'}]  Mike Loukides  {'name': 'Mike Loukides'}   \n",
       "2     [{'name': 'Q McCallum'}]     Q McCallum     {'name': 'Q McCallum'}   \n",
       "3  [{'name': 'Mike Loukides'}]  Mike Loukides  {'name': 'Mike Loukides'}   \n",
       "4  [{'name': 'Kevlin Henney'}]  Kevlin Henney  {'name': 'Kevlin Henney'}   \n",
       "\n",
       "                                                tags  \\\n",
       "0  [{'term': 'Artificial Intelligence', 'scheme':...   \n",
       "1  [{'term': 'Radar Trends', 'scheme': None, 'lab...   \n",
       "2  [{'term': 'Operations', 'scheme': None, 'label...   \n",
       "3  [{'term': 'AI & ML', 'scheme': None, 'label': ...   \n",
       "4  [{'term': 'AI & ML', 'scheme': None, 'label': ...   \n",
       "\n",
       "                                       id  guidislink  \\\n",
       "0  https://www.oreilly.com/radar/?p=14718       False   \n",
       "1  https://www.oreilly.com/radar/?p=14700       False   \n",
       "2  https://www.oreilly.com/radar/?p=14688       False   \n",
       "3  https://www.oreilly.com/radar/?p=14669       False   \n",
       "4  https://www.oreilly.com/radar/?p=14661       False   \n",
       "\n",
       "                                             summary  \\\n",
       "0  Projects like OpenAI’s DALL-E and DeepMind’s G...   \n",
       "1  It’s hardly news to talk about the AI developm...   \n",
       "2  In a recent Radar piece, I explored N-sided ma...   \n",
       "3  In a previous article, I wrote about how model...   \n",
       "4  Humans are notoriously poor at judging distanc...   \n",
       "\n",
       "                                      summary_detail  \\\n",
       "0  {'type': 'text/html', 'language': None, 'base'...   \n",
       "1  {'type': 'text/html', 'language': None, 'base'...   \n",
       "2  {'type': 'text/html', 'language': None, 'base'...   \n",
       "3  {'type': 'text/html', 'language': None, 'base'...   \n",
       "4  {'type': 'text/html', 'language': None, 'base'...   \n",
       "\n",
       "                                             content  \\\n",
       "0  [{'type': 'text/html', 'language': None, 'base...   \n",
       "1  [{'type': 'text/html', 'language': None, 'base...   \n",
       "2  [{'type': 'text/html', 'language': None, 'base...   \n",
       "3  [{'type': 'text/html', 'language': None, 'base...   \n",
       "4  [{'type': 'text/html', 'language': None, 'base...   \n",
       "\n",
       "                                      wfw_commentrss slash_comments  \n",
       "0  https://www.oreilly.com/radar/the-problem-with...              0  \n",
       "1  https://www.oreilly.com/radar/radar-trends-to-...              0  \n",
       "2  https://www.oreilly.com/radar/ad-networks-and-...              0  \n",
       "3   https://www.oreilly.com/radar/on-technique/feed/              0  \n",
       "4  https://www.oreilly.com/radar/scaling-false-pe...              0  "
      ]
     },
     "execution_count": 20,
     "metadata": {},
     "output_type": "execute_result"
    }
   ],
   "source": [
    "df.head()"
   ]
  },
  {
   "cell_type": "markdown",
   "metadata": {},
   "source": [
    "### 10. Count the number of entries per author and sort them in descending order."
   ]
  },
  {
   "cell_type": "code",
   "execution_count": 22,
   "metadata": {},
   "outputs": [],
   "source": [
    "entries = df.groupby('author').agg({'title':'count'}).sort_values('title')"
   ]
  },
  {
   "cell_type": "code",
   "execution_count": 23,
   "metadata": {},
   "outputs": [
    {
     "data": {
      "text/html": [
       "<div>\n",
       "<style scoped>\n",
       "    .dataframe tbody tr th:only-of-type {\n",
       "        vertical-align: middle;\n",
       "    }\n",
       "\n",
       "    .dataframe tbody tr th {\n",
       "        vertical-align: top;\n",
       "    }\n",
       "\n",
       "    .dataframe thead th {\n",
       "        text-align: right;\n",
       "    }\n",
       "</style>\n",
       "<table border=\"1\" class=\"dataframe\">\n",
       "  <thead>\n",
       "    <tr style=\"text-align: right;\">\n",
       "      <th></th>\n",
       "      <th>title</th>\n",
       "    </tr>\n",
       "    <tr>\n",
       "      <th>author</th>\n",
       "      <th></th>\n",
       "    </tr>\n",
       "  </thead>\n",
       "  <tbody>\n",
       "    <tr>\n",
       "      <th>Jon Udell</th>\n",
       "      <td>1</td>\n",
       "    </tr>\n",
       "    <tr>\n",
       "      <th>Kevlin Henney</th>\n",
       "      <td>1</td>\n",
       "    </tr>\n",
       "    <tr>\n",
       "      <th>Tim O’Reilly</th>\n",
       "      <td>1</td>\n",
       "    </tr>\n",
       "    <tr>\n",
       "      <th>Q McCallum</th>\n",
       "      <td>2</td>\n",
       "    </tr>\n",
       "    <tr>\n",
       "      <th>Mike Loukides</th>\n",
       "      <td>10</td>\n",
       "    </tr>\n",
       "  </tbody>\n",
       "</table>\n",
       "</div>"
      ],
      "text/plain": [
       "               title\n",
       "author              \n",
       "Jon Udell          1\n",
       "Kevlin Henney      1\n",
       "Tim O’Reilly       1\n",
       "Q McCallum         2\n",
       "Mike Loukides     10"
      ]
     },
     "execution_count": 23,
     "metadata": {},
     "output_type": "execute_result"
    }
   ],
   "source": [
    "entries"
   ]
  },
  {
   "cell_type": "markdown",
   "metadata": {},
   "source": [
    "### 11. Add a new column to the data frame that contains the length (number of characters) of each entry title. Return a data frame that contains the title, author, and title length of each entry in descending order (longest title length at the top)."
   ]
  },
  {
   "cell_type": "code",
   "execution_count": 24,
   "metadata": {},
   "outputs": [
    {
     "data": {
      "text/html": [
       "<div>\n",
       "<style scoped>\n",
       "    .dataframe tbody tr th:only-of-type {\n",
       "        vertical-align: middle;\n",
       "    }\n",
       "\n",
       "    .dataframe tbody tr th {\n",
       "        vertical-align: top;\n",
       "    }\n",
       "\n",
       "    .dataframe thead th {\n",
       "        text-align: right;\n",
       "    }\n",
       "</style>\n",
       "<table border=\"1\" class=\"dataframe\">\n",
       "  <thead>\n",
       "    <tr style=\"text-align: right;\">\n",
       "      <th></th>\n",
       "      <th>title</th>\n",
       "      <th>author</th>\n",
       "      <th>title_length</th>\n",
       "    </tr>\n",
       "  </thead>\n",
       "  <tbody>\n",
       "    <tr>\n",
       "      <th>7</th>\n",
       "      <td>SQL: The Universal Solvent for REST APIs</td>\n",
       "      <td>Jon Udell</td>\n",
       "      <td>40</td>\n",
       "    </tr>\n",
       "    <tr>\n",
       "      <th>1</th>\n",
       "      <td>Radar Trends to Watch: September 2022</td>\n",
       "      <td>Mike Loukides</td>\n",
       "      <td>37</td>\n",
       "    </tr>\n",
       "    <tr>\n",
       "      <th>6</th>\n",
       "      <td>Radar Trends to Watch: August 2022</td>\n",
       "      <td>Mike Loukides</td>\n",
       "      <td>34</td>\n",
       "    </tr>\n",
       "    <tr>\n",
       "      <th>2</th>\n",
       "      <td>Ad Networks and Content Marketing</td>\n",
       "      <td>Q McCallum</td>\n",
       "      <td>33</td>\n",
       "    </tr>\n",
       "    <tr>\n",
       "      <th>11</th>\n",
       "      <td>“Sentience” is the Wrong Question</td>\n",
       "      <td>Mike Loukides</td>\n",
       "      <td>33</td>\n",
       "    </tr>\n",
       "    <tr>\n",
       "      <th>9</th>\n",
       "      <td>Radar Trends to Watch: July 2022</td>\n",
       "      <td>Mike Loukides</td>\n",
       "      <td>32</td>\n",
       "    </tr>\n",
       "    <tr>\n",
       "      <th>13</th>\n",
       "      <td>Radar Trends to Watch: June 2022</td>\n",
       "      <td>Mike Loukides</td>\n",
       "      <td>32</td>\n",
       "    </tr>\n",
       "    <tr>\n",
       "      <th>0</th>\n",
       "      <td>The Problem with Intelligence</td>\n",
       "      <td>Mike Loukides</td>\n",
       "      <td>29</td>\n",
       "    </tr>\n",
       "    <tr>\n",
       "      <th>5</th>\n",
       "      <td>The Metaverse Is Not a Place</td>\n",
       "      <td>Tim O’Reilly</td>\n",
       "      <td>28</td>\n",
       "    </tr>\n",
       "    <tr>\n",
       "      <th>14</th>\n",
       "      <td>Building a Better Middleman</td>\n",
       "      <td>Q McCallum</td>\n",
       "      <td>27</td>\n",
       "    </tr>\n",
       "    <tr>\n",
       "      <th>10</th>\n",
       "      <td>2022 Cloud Salary Survey</td>\n",
       "      <td>Mike Loukides</td>\n",
       "      <td>24</td>\n",
       "    </tr>\n",
       "    <tr>\n",
       "      <th>8</th>\n",
       "      <td>Artificial Creativity?</td>\n",
       "      <td>Mike Loukides</td>\n",
       "      <td>22</td>\n",
       "    </tr>\n",
       "    <tr>\n",
       "      <th>4</th>\n",
       "      <td>Scaling False Peaks</td>\n",
       "      <td>Kevlin Henney</td>\n",
       "      <td>19</td>\n",
       "    </tr>\n",
       "    <tr>\n",
       "      <th>12</th>\n",
       "      <td>Closer to AGI?</td>\n",
       "      <td>Mike Loukides</td>\n",
       "      <td>14</td>\n",
       "    </tr>\n",
       "    <tr>\n",
       "      <th>3</th>\n",
       "      <td>On Technique</td>\n",
       "      <td>Mike Loukides</td>\n",
       "      <td>12</td>\n",
       "    </tr>\n",
       "  </tbody>\n",
       "</table>\n",
       "</div>"
      ],
      "text/plain": [
       "                                       title         author  title_length\n",
       "7   SQL: The Universal Solvent for REST APIs      Jon Udell            40\n",
       "1      Radar Trends to Watch: September 2022  Mike Loukides            37\n",
       "6         Radar Trends to Watch: August 2022  Mike Loukides            34\n",
       "2          Ad Networks and Content Marketing     Q McCallum            33\n",
       "11         “Sentience” is the Wrong Question  Mike Loukides            33\n",
       "9           Radar Trends to Watch: July 2022  Mike Loukides            32\n",
       "13          Radar Trends to Watch: June 2022  Mike Loukides            32\n",
       "0              The Problem with Intelligence  Mike Loukides            29\n",
       "5               The Metaverse Is Not a Place   Tim O’Reilly            28\n",
       "14               Building a Better Middleman     Q McCallum            27\n",
       "10                  2022 Cloud Salary Survey  Mike Loukides            24\n",
       "8                     Artificial Creativity?  Mike Loukides            22\n",
       "4                        Scaling False Peaks  Kevlin Henney            19\n",
       "12                            Closer to AGI?  Mike Loukides            14\n",
       "3                               On Technique  Mike Loukides            12"
      ]
     },
     "execution_count": 24,
     "metadata": {},
     "output_type": "execute_result"
    }
   ],
   "source": [
    "df['title_length'] = df['title'].apply(len)\n",
    "df[['title', 'author', 'title_length']].sort_values('title_length', ascending=False)"
   ]
  },
  {
   "cell_type": "markdown",
   "metadata": {},
   "source": [
    "### 12. Create a list of entry titles whose summary includes the phrase \"machine learning.\""
   ]
  },
  {
   "cell_type": "code",
   "execution_count": null,
   "metadata": {},
   "outputs": [],
   "source": [
    "###  ---  ###"
   ]
  }
 ],
 "metadata": {
  "kernelspec": {
   "display_name": "Python 3 (ipykernel)",
   "language": "python",
   "name": "python3"
  },
  "language_info": {
   "codemirror_mode": {
    "name": "ipython",
    "version": 3
   },
   "file_extension": ".py",
   "mimetype": "text/x-python",
   "name": "python",
   "nbconvert_exporter": "python",
   "pygments_lexer": "ipython3",
   "version": "3.9.7"
  }
 },
 "nbformat": 4,
 "nbformat_minor": 4
}
